{
  "nbformat": 4,
  "nbformat_minor": 0,
  "metadata": {
    "colab": {
      "name": "ENLactAppAforo.ipynb",
      "provenance": [],
      "collapsed_sections": [],
      "toc_visible": true,
      "include_colab_link": true
    },
    "kernelspec": {
      "name": "python3",
      "display_name": "Python 3"
    }
  },
  "cells": [
    {
      "cell_type": "markdown",
      "metadata": {
        "id": "view-in-github",
        "colab_type": "text"
      },
      "source": [
        "<a href=\"https://colab.research.google.com/github/jozenerd/fernando.guarin.github.io/blob/master/ENLactAppAforo.ipynb\" target=\"_parent\"><img src=\"https://colab.research.google.com/assets/colab-badge.svg\" alt=\"Open In Colab\"/></a>"
      ]
    },
    {
      "cell_type": "markdown",
      "metadata": {
        "id": "qqHR7MHueb50"
      },
      "source": [
        "#**ENLactApp**\r\n",
        "\r\n",
        " **Aplicación para el cálculo de aportes nutricionales en vacas lecheras**\r\n",
        "\r\n",
        "José F. Guarín Montoya, Ph.D.; John F. Ramirez Agudelo, Ph.D.\r\n",
        "\r\n",
        "GrICA, Facultad de Ciencias Agrarias, Universidad de Antioquia"
      ]
    },
    {
      "cell_type": "markdown",
      "metadata": {
        "id": "CEfz9scRf9BC"
      },
      "source": [
        "\r\n",
        "\r\n",
        "---\r\n",
        "\r\n"
      ]
    },
    {
      "cell_type": "markdown",
      "metadata": {
        "id": "_NJYv3MTFbAb"
      },
      "source": [
        "## **ENLactApp (con aforo)**\n",
        "Balance Energetico de Lactancia\n",
        "\n",
        "Normalmente en nuestra ganadería el mayor limitante es la cantidad de energía suministrada a nuestros animales. Por esto, desarrollamos esta aplicación que busca realizar un cálcuulo rápido de los aportes energéticos provenientes de las fuentes más comunes en nuestra ganadería especializada en leche y de estsa forma calcular el estimado de Litros a producir con base en este suplemento energético.\n",
        "\n",
        "El uso de herramientas digitales como las aplicaciones para dispositivos electrónicos es del mayor interés de nuestros productores, profesionales y la industria láctea en general. Herramientas para el manejo productivo, en especial para el manejo nutricional son de importancia para nuestra industria láctea en la actualidad. Objetivo: describir el proceso de creación y de desarrollo de una aplicación para el cálculo de los aportes nutricionales que reciben vacas lecheras específicamente en el medio. Para el desarrollo de la aplicación se utilizó Google Colab. El lenguaje de programación usado dentro del programa Python. En la aplicación la primera escena es la de ingreso de datos básicos, en donde se encuentran formularios para ingreso de información para las variables Nombre de la finca, Ubicación, Fecha y otros detalles. Así mismo se encuentran menús desplegables para el tipo de pasto predominante, Tipo de suplementación, Distancia al ordeño. El último componente de esta lista es un Slider que permite introducir los días para la rotación (rango de 20-40 d). La escena dos (Con aforo) recibe las variables introducidas en la escena ingreso de datos básicos a través del uso del public class DontDestroy, que es cargado en el void Awake, lo que garantiza que las variables estén disponibles para los cálculos en la escena dos. Al usuario introducir el consumo en base fresca para cada componente de la dieta de las vacas, la aplicación calcula automáticamente para cada componente, la materia seca (MS) estimada, el consumo de MS en Kg, la energía neta de lactancia (ENl). Una vez calculados los aportes, la aplicación calcula automáticamente, con base a las formulas de la NRC 2001 para ganado de leche, los siguientes parámetros: Total ENl, Energía mantenimiento, Energía para caminar y para pastoreo, ENl disponible para producción, la leche potencial a ser producida y los Litros de leche por Kg de concentrado consumido. Conclusiones: la app para el cálculo automatizado de aportes energéticos posibilita la eficiente estimación de la energía de producción en lecherías especializadas. \n"
      ]
    },
    {
      "cell_type": "markdown",
      "metadata": {
        "id": "DNJnUHYP4KFo"
      },
      "source": [
        "**Palabras clave:** android, ios, leche, nutrición."
      ]
    },
    {
      "cell_type": "markdown",
      "metadata": {
        "id": "GoNAX_8QR9cL"
      },
      "source": [
        "**Datos de la vaca**\r\n",
        "Este paso lo podemos usar para refinar la app cuando ya esté andando bien, asi se elimina la necesidad de meter muchos datos de entrada y se lilita a meter el tipo de pasto y el suplemento que está dando"
      ]
    },
    {
      "cell_type": "code",
      "metadata": {
        "colab": {
          "base_uri": "https://localhost:8080/"
        },
        "id": "RAJiDLM_SCLd",
        "outputId": "4414da58-c2ab-42f9-9623-95af0412017a"
      },
      "source": [
        "Peso = input('Peso de la vaca en kg: ')\r\n",
        "\r\n",
        "TipoPasto = input(\"Selecccione el pasto, Kikuyo, RyeGrass u otro: \")\r\n",
        "\r\n",
        "#NivelAct=  #bajo (EMant*.1), medio (EMant*.3)  o alto (EMant*.5)\r\n",
        "\r\n",
        "#TipoSuplemento= Ensilaje de maiz, Ensilaje de naranja, ensilaje de boton"
      ],
      "execution_count": null,
      "outputs": [
        {
          "output_type": "stream",
          "text": [
            "Peso de la vaca en kg: 500\n",
            "Selecccione el pasto, Kikuyo, RyeGrass u otro: otro\n"
          ],
          "name": "stdout"
        }
      ]
    },
    {
      "cell_type": "markdown",
      "metadata": {
        "id": "QVSHvwyRNV3r"
      },
      "source": [
        "Aportes del pasto"
      ]
    },
    {
      "cell_type": "code",
      "metadata": {
        "id": "m3FvgO7HNSQK"
      },
      "source": [
        "kgBFPasto=90 #introduzca la cantidad de pasto en kg de FV\r\n",
        "MSPasto=.14    #introduzca la MS del pasto %\r\n",
        "ENlPasto=1.1   #introduzca el contenido de Energía Neta de lactancia del pasto\r\n",
        "ConskgMSPasto=kgBFPasto*MSPasto #resultado del consumo de pasto en MS\r\n",
        "AportreENlPasto=round(kgBFPasto*MSPasto*ENlPasto,1) #resultado ENL del pasto"
      ],
      "execution_count": null,
      "outputs": []
    },
    {
      "cell_type": "markdown",
      "metadata": {
        "id": "nvulzX4gO_Ss"
      },
      "source": [
        "Aportes del concentrado"
      ]
    },
    {
      "cell_type": "code",
      "metadata": {
        "id": "9hnLzemTO9Mu"
      },
      "source": [
        "kgBFConcentrado=8  #introduzca la cantidad de Concentrado en kg de FV\r\n",
        "MSConcentrado=.88   #introduzca la MS del Concentrado %\r\n",
        "ENlConcentrado=1.8   #introduzca el contenido de Energía Neta de lactancia del Concentrado\r\n",
        "ConskgMSConcentrado=kgBFConcentrado*MSConcentrado #resultado del consumo de Concentrado en MS\r\n",
        "AportreENlConcentrado=round(kgBFConcentrado*MSConcentrado*ENlConcentrado,1) #resultado ENL del Concentrado"
      ],
      "execution_count": null,
      "outputs": []
    },
    {
      "cell_type": "markdown",
      "metadata": {
        "id": "DyQlV-DqPmMw"
      },
      "source": [
        "Aportes del suplemento"
      ]
    },
    {
      "cell_type": "code",
      "metadata": {
        "id": "UA8MY6Y9Po6j"
      },
      "source": [
        "kgBFSuplemento=7  #introduzca la cantidad de Suplemento en kg de FV\r\n",
        "MSSuplemento=.35    #introduzca la MS del Suplemento %\r\n",
        "ENlSuplemento=1.3   #introduzca el contenido de Energía Neta de lactancia del Suplemento\r\n",
        "ConskgMSSuplemento=kgBFSuplemento*MSSuplemento #resultado del consumo de Suplemento en MS\r\n",
        "AportreENlSuplemento=round(kgBFSuplemento*MSSuplemento*ENlSuplemento,1) #resultado ENL del Suplemento"
      ],
      "execution_count": null,
      "outputs": []
    },
    {
      "cell_type": "markdown",
      "metadata": {
        "id": "JFtdkRjEJyNn"
      },
      "source": [
        "## Suma de las energías"
      ]
    },
    {
      "cell_type": "code",
      "metadata": {
        "id": "LXmi78omGqTU",
        "colab": {
          "base_uri": "https://localhost:8080/"
        },
        "outputId": "78ae641d-4e2f-4b16-894e-d621c80b81fc"
      },
      "source": [
        "TotalENl=round(AportreENlPasto+AportreENlConcentrado+AportreENlSuplemento,1) #suma de las energias individuales\r\n",
        "#EMant=9.8\r\n",
        "  # el condicional de la tabla IF(AND(Peso>=400,Peso<=450),(7.16-((450-Peso)*(7.82-7.16))/(450-400)),IF(AND(Peso>=450,Peso<=500),(8.46-((500-Peso)*(8.46-7.82))/(500-450)),IF(AND(Peso>=500,Peso<=550),(9.09-((500-Peso)*(9.09-8.46))/(550-500)),IF(AND(Peso>=550,Peso<=600),(9.7-((600-Peso)*(9.7-9.09))/(600-550)),IF(AND(Peso>=600,Peso<=650),(10.3-((650-Peso)*(10.3-9.7))/(650-600)),IF(AND(Peso>=650,Peso<=700),(10.89-((700-Peso)*(10.89-10.3))/(700-650)),IF(Peso>700,10.89,0)))))))\r\n",
        "  #,,IF(Peso>700,10.89,0)))))))\r\n",
        "\r\n",
        "if int(Peso)>=400 and int(Peso)<=450:\r\n",
        "  EMant=(7.16-((450-int(Peso))*(7.82-7.16))/(450-400))\r\n",
        "if int(Peso)>=450 and int(Peso)<=500:\r\n",
        "  EMant=(8.46-((500-int(Peso))*(8.46-7.82))/(500-450))\r\n",
        "if int(Peso)>=500 and int(Peso)<=550:\r\n",
        "  EMant=(9.09-((550-int(Peso))*(9.09-8.46))/(550-500))\r\n",
        "if int(Peso)>=550 and int(Peso)<=600:\r\n",
        "  EMant=(9.7-((600-int(Peso))*(9.7-9.09))/(600-550))\r\n",
        "if int(Peso)>=600 and int(Peso)<=650:\r\n",
        "  EMant=(10.3-((600-int(Peso))*(10.3-9.7))/(650-600))\r\n",
        "if int(Peso)>=650 and int(Peso)<=700:\r\n",
        "  EMant=(10.89-((700-int(Peso))*(10.89-10.3))/(700-650))\r\n",
        "if int(Peso)==700:\r\n",
        "  EMant=10.89\r\n",
        "\r\n",
        "EMantAct=EMant*0.3\r\n",
        "  #la podemos ajustar con los datos de la vaca por actividad\r\n",
        "EPdn=round(TotalENl-EMant-EMantAct,1) #energia que sobra para producir\r\n",
        "ENlLitro=0.69 \r\n",
        "LechePotencial=EPdn//ENlLitro\r\n",
        "print(EMant)\r\n"
      ],
      "execution_count": null,
      "outputs": [
        {
          "output_type": "stream",
          "text": [
            "8.46\n"
          ],
          "name": "stdout"
        }
      ]
    },
    {
      "cell_type": "markdown",
      "metadata": {
        "id": "OLldHgrPan3T"
      },
      "source": [
        "Impresión de resultados"
      ]
    },
    {
      "cell_type": "code",
      "metadata": {
        "colab": {
          "base_uri": "https://localhost:8080/"
        },
        "id": "KHUV6MBrbU02",
        "outputId": "5c11c7fe-c747-4814-e6e4-84c6e452c36f"
      },
      "source": [
        "print(AportreENlPasto, \"Mcal ENl Pasto\")\r\n",
        "print(AportreENlConcentrado, \"Mcal ENl Conc.\")\r\n",
        "print(AportreENlSuplemento, \"Mcal ENl Supl.\")\r\n",
        "print(TotalENl, \"Mcal ENl Totales\")\r\n",
        "print(EPdn, \"ENl para leche\")\r\n",
        "print(LechePotencial, \"L leche\")"
      ],
      "execution_count": null,
      "outputs": [
        {
          "output_type": "stream",
          "text": [
            "13.9 Mcal ENl Pasto\n",
            "12.7 Mcal ENl Conc.\n",
            "3.2 Mcal ENl Supl.\n",
            "29.8 Mcal ENl Totales\n",
            "17.1 ENl para leche\n",
            "24.0 L leche\n"
          ],
          "name": "stdout"
        }
      ]
    },
    {
      "cell_type": "markdown",
      "metadata": {
        "id": "84ZrIXpsgDY8"
      },
      "source": [
        "\r\n",
        "\r\n",
        "---\r\n",
        "\r\n"
      ]
    },
    {
      "cell_type": "markdown",
      "metadata": {
        "id": "By5YaIn61q_Z"
      },
      "source": [
        "# ENLactApp (para hayar el Consumo estimado de pasto)\r\n",
        "\r\n",
        "La determinación del consumo real de forraje verde es un dato de suma importancia en las fincas lecheras. Sin embargo, para la determinación del consumo se emplean técnicas difíles de implementar y que, en algunos casos, presentan una serie de imprecisiones. La técnica para estimar el consumo de pasto a través de la producción de leche total se basa en el concepto de las sumas de aportes energéticos individuales de cada pastura y la determinación de los requerimientos para producción basada en las ecuaciones de la NRC.\r\n",
        "\r\n",
        "Al usuario introducir el consumo en base fresca para cada componente de la dieta de las vacas, la aplicación calcula automáticamente para cada componente, la materia seca (MS) estimada, el consumo de MS en Kg, la energía neta de lactancia (ENl). Una vez calculados los aportes, la aplicación calcula automáticamente, con base a las formulas de la NRC 2001 para ganado de leche, los siguientes parámetros: Total ENl, Energía mantenimiento, Energía para caminar y para pastoreo, ENl disponible para producción, la leche potencial a ser producida y los Litros de leche por Kg de concentrado consumido. Conclusiones: la app para el cálculo automatizado de aportes energéticos posibilita la eficiente estimación de la energía de producción en lecherías especializadas. Palabras clave: android, ios, leche, nutrición."
      ]
    },
    {
      "cell_type": "markdown",
      "metadata": {
        "id": "8BpBXqi75apV"
      },
      "source": [
        "Datos de Producción y consumo "
      ]
    },
    {
      "cell_type": "code",
      "metadata": {
        "id": "58fTj0aI4a7s"
      },
      "source": [
        "LecheReal=23          #dato inicial para poder calcular el consumo de pasto\r\n",
        "ConsumoConcentrado=7  #consumo real de concentrado\r\n",
        "ConsumoSuplemento=3   #kg reales de suplemento suministrado\r\n",
        "Pasto2=\"kikuyo\" # kikuyo, ryegrass, otro"
      ],
      "execution_count": null,
      "outputs": []
    },
    {
      "cell_type": "markdown",
      "metadata": {
        "id": "XVbLX8c85sTW"
      },
      "source": [
        "Calculos de aportes y demandas"
      ]
    },
    {
      "cell_type": "code",
      "metadata": {
        "id": "81choimh5yR8"
      },
      "source": [
        "AportreENlConcentrado2=round(ConsumoConcentrado*.88*1.8,1)\r\n",
        "AportreENlSuplemento2=round(ConsumoSuplemento*MSSuplemento*ENlSuplemento,1) #resultado ENL del Suplemento\r\n",
        "EPdn2=round(LecheReal*.69,1)\r\n",
        "Etotal=round(EPdn2+9.8+(9.8*.3),1)\r\n",
        "ENlPasto2=round(Etotal-AportreENlConcentrado2-AportreENlSuplemento2,1)\r\n",
        "\r\n",
        "if Pasto2==\"kikuyo\":\r\n",
        "  kgBFPastoCalculado=round(ENlPasto2/1.12/.16,1)\r\n",
        "if Pasto2==\"ryegrass\":\r\n",
        "  kgBFPastoCalculado=round(ENlPasto2/1.4/.16,1)\r\n",
        "else:\r\n",
        "  kgBFPastoCalculado=round(ENlPasto2/1.28/.16,1)"
      ],
      "execution_count": null,
      "outputs": []
    },
    {
      "cell_type": "code",
      "metadata": {
        "colab": {
          "base_uri": "https://localhost:8080/"
        },
        "id": "hLsHCmFH8RL4",
        "outputId": "d64006ca-a8f7-4cca-883f-843cb40339ec"
      },
      "source": [
        "print(AportreENlConcentrado2, \"Mcal ENl Conc.\")\r\n",
        "print(AportreENlSuplemento2, \"Mcal ENl Supl.\" )\r\n",
        "print(EPdn2, \"Mcal ENl Producción\")\r\n",
        "print(Etotal, \"Mcal ENl Total.\")\r\n",
        "print(ENlPasto2, \"Mcal ENl Pasto\")\r\n",
        "print(kgBFPastoCalculado, \"Kg Pasto en FV\" )"
      ],
      "execution_count": null,
      "outputs": [
        {
          "output_type": "stream",
          "text": [
            "11.1 Mcal ENl Conc.\n",
            "1.4 Mcal ENl Supl.\n",
            "15.9 Mcal ENl Producción\n",
            "28.6 Mcal ENl Total.\n",
            "16.1 Mcal ENl Pasto\n",
            "78.6 Kg Pasto en FV consumido\n"
          ],
          "name": "stdout"
        }
      ]
    }
  ]
}